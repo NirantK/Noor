{
 "cells": [
  {
   "cell_type": "markdown",
   "metadata": {},
   "source": [
    "# Get Data \n",
    "> A notebook for getting data from official sources and unzipping them to machine readable formats\n",
    "\n",
    "- toc: true \n",
    "- badges: false\n",
    "- comments: true\n",
    "- categories: [jupyter]\n",
    "- author: Nirant Kasliwal and Meghana Bhange\n",
    "<!-- - image: images/chart-preview.png -->"
   ]
  },
  {
   "cell_type": "code",
   "execution_count": null,
   "metadata": {},
   "outputs": [],
   "source": [
    "# hide\n",
    "# !pip install requests\n",
    "# !pip install pydantic\n",
    "# !pip install tqdm\n",
    "# !pip install pdfminer.six"
   ]
  },
  {
   "cell_type": "code",
   "execution_count": null,
   "metadata": {},
   "outputs": [],
   "source": [
    "%load_ext autoreload\n",
    "%autoreload 2"
   ]
  },
  {
   "cell_type": "code",
   "execution_count": null,
   "metadata": {},
   "outputs": [],
   "source": [
    "# hide_input\n",
    "import json\n",
    "from pathlib import Path\n",
    "from typing import List, Union\n",
    "\n",
    "import requests\n",
    "from pydantic import BaseModel\n",
    "from tqdm.notebook import tqdm\n",
    "\n",
    "from textbook import Book, Chapter"
   ]
  },
  {
   "cell_type": "code",
   "execution_count": null,
   "metadata": {},
   "outputs": [],
   "source": [
    "Path.pdfls = lambda x: [x for x in list(x.iterdir()) if x.suffix == \".pdf\"]\n",
    "Path.ls = lambda x: list(x.iterdir())"
   ]
  },
  {
   "cell_type": "markdown",
   "metadata": {},
   "source": [
    "### Get List of Books and Download Links"
   ]
  },
  {
   "cell_type": "code",
   "execution_count": null,
   "metadata": {},
   "outputs": [],
   "source": [
    "# collapse-hide\n",
    "sheet_name = \"History\"\n",
    "books_list = (\n",
    "    f\"https://api.steinhq.com/v1/storages/5fd49704f62b6004b3eb63a3/{sheet_name}\"\n",
    ")\n",
    "r = requests.get(books_list)"
   ]
  },
  {
   "cell_type": "code",
   "execution_count": null,
   "metadata": {},
   "outputs": [],
   "source": [
    "# collapse-hide\n",
    "ncert_history_books = [Book(**x) for x in json.loads(r.text)]"
   ]
  },
  {
   "cell_type": "markdown",
   "metadata": {},
   "source": [
    "## Download and Extract all Books"
   ]
  },
  {
   "cell_type": "code",
   "execution_count": null,
   "metadata": {},
   "outputs": [],
   "source": [
    "# collapse-show\n",
    "for book in tqdm(ncert_history_books):\n",
    "    book.download(\"../data/raw\")\n",
    "    book.unzip(\"../data/extract\")"
   ]
  },
  {
   "cell_type": "code",
   "execution_count": null,
   "metadata": {},
   "outputs": [],
   "source": [
    "single_book = ncert_history_books[0]"
   ]
  },
  {
   "cell_type": "code",
   "execution_count": null,
   "metadata": {},
   "outputs": [],
   "source": [
    "pdf_files = []\n",
    "for folder in single_book.extract_to_path.ls():\n",
    "    pdf_files.extend(folder.pdfls())\n",
    "pdf_files.sort()\n",
    "pdf_files = [\n",
    "    file for file in pdf_files if file.stem[-2:].isdigit()\n",
    "]  # keep the chapter files, nothing else\n",
    "pdf_files"
   ]
  },
  {
   "cell_type": "code",
   "execution_count": null,
   "metadata": {},
   "outputs": [],
   "source": [
    "# map chapter numbers\n",
    "from io import StringIO\n",
    "from typing import List\n",
    "\n",
    "from pdfminer.converter import TextConverter\n",
    "from pdfminer.layout import LAParams\n",
    "from pdfminer.pdfdocument import PDFDocument\n",
    "from pdfminer.pdfinterp import PDFPageInterpreter, PDFResourceManager\n",
    "from pdfminer.pdfpage import PDFPage\n",
    "from pdfminer.pdfparser import PDFParser\n",
    "\n",
    "\n",
    "def pdf_to_text(file: Path, output_io_wrapper: Object) -> List[str]:\n",
    "    \"\"\"\n",
    "    Converts the pdf to text using pdfminer.six Using PDFParser\n",
    "    to fetch PDF objects from a file stream.\n",
    "\n",
    "    This is then passed to PDF document to cooperate with a\n",
    "    PDF parser in order to dynamically import the data as\n",
    "    processing goes\n",
    "\n",
    "    ResourceManager facilitates reuse of shared resources\n",
    "    such as fonts and images so that large objects are not\n",
    "    allocated multiple times.\n",
    "    \n",
    "    Used line_margin=0.7 because anything below that was \n",
    "    considering a paragraph break as a different text blob(bounding box?)\n",
    "    \"\"\"\n",
    "\n",
    "    with open(file, \"rb\") as in_file:\n",
    "        parser = PDFParser(in_file)\n",
    "        doc = PDFDocument(parser)\n",
    "        resource_manager = PDFResourceManager()\n",
    "        test_converter = TextConverter(\n",
    "            resource_manager, output_io_wrapper, laparams=LAParams(line_margin=0.7)\n",
    "        )\n",
    "        interpreter = PDFPageInterpreter(resource_manager, test_converter)\n",
    "        # Processor for the content of a PDF page\n",
    "\n",
    "        for page in PDFPage.create_pages(doc):\n",
    "            interpreter.process_page(page)\n",
    "\n",
    "    return output_string.getvalue()\n",
    "\n",
    "\n",
    "for file in pdf_files:\n",
    "    \"\"\"\n",
    "    output_io_wrapper is StringIO because TextConverter expect\n",
    "    StringIOWrapper/TextIOWrapper or similar object as an input.\n",
    "    This can be replaced by TextIOwrapper when we want to export the \n",
    "    output directly to the file \n",
    "    \"\"\"\n",
    "    output_io_wrapper = StringIO()\n",
    "    plain_text = pdf_to_text(file, output_io_wrapper)\n",
    "    print(plain_text)"
   ]
  },
  {
   "cell_type": "code",
   "execution_count": null,
   "metadata": {},
   "outputs": [],
   "source": [
    "# ncert_history_books[1].download()\n",
    "# ncert_history_books[1].unzip()"
   ]
  }
 ],
 "metadata": {
  "kernelspec": {
   "display_name": "Python 3",
   "language": "python",
   "name": "python3"
  }
 },
 "nbformat": 4,
 "nbformat_minor": 4
}
