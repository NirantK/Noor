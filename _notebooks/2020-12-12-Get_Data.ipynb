{
 "cells": [
  {
   "cell_type": "markdown",
   "metadata": {},
   "source": [
    "# Get Data \n",
    "> A notebook for getting data from official sources and unzipping them to machine readable formats\n",
    "\n",
    "- toc: true \n",
    "- badges: false\n",
    "- comments: true\n",
    "- categories: [jupyter]\n",
    "- author: Nirant Kasliwal and Meghana Bhange\n",
    "<!-- - image: images/chart-preview.png -->"
   ]
  },
  {
   "cell_type": "code",
   "execution_count": null,
   "metadata": {},
   "outputs": [],
   "source": [
    "#hide\n",
    "# !pip install requests\n",
    "# !pip install pydantic"
   ]
  },
  {
   "cell_type": "code",
   "execution_count": null,
   "metadata": {},
   "outputs": [],
   "source": [
    "import json\n",
    "from pathlib import Path\n",
    "from typing import List, Union\n",
    "\n",
    "import requests\n",
    "from pydantic import BaseModel"
   ]
  },
  {
   "cell_type": "code",
   "execution_count": null,
   "metadata": {},
   "outputs": [],
   "source": []
  },
  {
   "cell_type": "code",
   "execution_count": null,
   "metadata": {},
   "outputs": [],
   "source": [
    "class Book(BaseModel):\n",
    "    id: int\n",
    "    subject = \"History\"\n",
    "    class_or_grade: int = None\n",
    "    url: str = \"\"\n",
    "    title: str = \"\"\n",
    "    origin: str = \"\"\n",
    "    zip_file_name: str = \"\"\n",
    "\n",
    "    def download(self, file_path: Path = \".\", file_name: Union[None, str] = None):\n",
    "        \"\"\"\n",
    "        Utility function to download\n",
    "        \"\"\"\n",
    "        url = self.url\n",
    "        r = requests.get(url)\n",
    "\n",
    "        if file_name is None:\n",
    "            url_path = Path(url)\n",
    "            file_name = url_path.name\n",
    "        path = Path(file_path).resolve() / file_name\n",
    "        with path.open(\"wb\") as f:\n",
    "            f.write(r.content)\n",
    "\n",
    "        self.zip_file_name = file_name\n",
    "        return r.status_code == 200\n",
    "\n",
    "    def unzip(self):\n",
    "        \"\"\"\"\"\"\n",
    "        file_path = self.zip_file_name\n",
    "        try:\n",
    "            assert self.zip_file_name != \"\"\n",
    "        except AssertionError as e:\n",
    "            raise AssertionError(\n",
    "                f\"Please download the file or set the zip_file_name variable\"\n",
    "            )\n",
    "        import zipfile\n",
    "\n",
    "        with zipfile.ZipFile(file_path, \"r\") as zip_ref:\n",
    "            zip_ref.extractall(\"../data/\")"
   ]
  },
  {
   "cell_type": "code",
   "execution_count": null,
   "metadata": {},
   "outputs": [],
   "source": [
    "sheet_name = \"History\"\n",
    "books_list = (\n",
    "    f\"https://api.steinhq.com/v1/storages/5fd49704f62b6004b3eb63a3/{sheet_name}\"\n",
    ")"
   ]
  },
  {
   "cell_type": "code",
   "execution_count": null,
   "metadata": {},
   "outputs": [],
   "source": [
    "r = requests.get(books_list)"
   ]
  },
  {
   "cell_type": "code",
   "execution_count": null,
   "metadata": {},
   "outputs": [],
   "source": [
    "ncert_history_books = [Book(**x) for x in json.loads(r.text)]"
   ]
  },
  {
   "cell_type": "code",
   "execution_count": null,
   "metadata": {},
   "outputs": [],
   "source": [
    "# ncert_history_books[1].download()\n",
    "# ncert_history_books[1].unzip()"
   ]
  }
 ],
 "metadata": {
  "kernelspec": {
   "display_name": "Python 3",
   "language": "python",
   "name": "python3"
  }
 },
 "nbformat": 4,
 "nbformat_minor": 4
}
