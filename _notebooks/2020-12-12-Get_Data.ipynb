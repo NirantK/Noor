{
 "cells": [
  {
   "cell_type": "markdown",
   "metadata": {},
   "source": [
    "# Get Data \n",
    "> A notebook for getting data from official sources and unzipping them to machine readable formats\n",
    "\n",
    "- toc: true \n",
    "- badges: false\n",
    "- comments: true\n",
    "- categories: [jupyter]\n",
    "- author: Nirant Kasliwal and Meghana Bhange\n",
    "<!-- - image: images/chart-preview.png -->"
   ]
  },
  {
   "cell_type": "code",
   "execution_count": null,
   "metadata": {},
   "outputs": [],
   "source": [
    "# hide\n",
    "# !pip install requests\n",
    "# !pip install pydantic\n",
    "# !pip install tqdm"
   ]
  },
  {
   "cell_type": "code",
   "execution_count": null,
   "metadata": {},
   "outputs": [],
   "source": [
    "# hide_input\n",
    "import json\n",
    "from pathlib import Path\n",
    "from typing import List, Union\n",
    "\n",
    "import requests\n",
    "from pydantic import BaseModel\n",
    "from tqdm.notebook import tqdm"
   ]
  },
  {
   "cell_type": "markdown",
   "metadata": {},
   "source": [
    "## Define the Book Class with metadata info"
   ]
  },
  {
   "cell_type": "code",
   "execution_count": 29,
   "metadata": {},
   "outputs": [],
   "source": [
    "# collapse-show\n",
    "class Book(BaseModel):\n",
    "    id: int\n",
    "    subject = \"History\"\n",
    "    class_or_grade: int = None\n",
    "    url: str = \"\"\n",
    "    title: str = \"\"\n",
    "    origin: str = \"\"\n",
    "    zip_file_name: str = \"\"\n",
    "\n",
    "    def download(self, file_path: Path = \".\", file_name: Union[None, str] = None):\n",
    "        \"\"\"\n",
    "        Utility function to download\n",
    "        \"\"\"\n",
    "        # TODO: Add zip_file_name if the zip file already exists, without downloading again\n",
    "        url = self.url\n",
    "        r = requests.get(url)\n",
    "\n",
    "        if file_name is None:\n",
    "            url_path = Path(url)\n",
    "            file_name = url_path.name\n",
    "        path = Path(file_path).resolve() / file_name\n",
    "        with path.open(\"wb\") as f:\n",
    "            f.write(r.content)\n",
    "\n",
    "        self.zip_file_name = file_name\n",
    "        return r.status_code == 200\n",
    "\n",
    "    def unzip(self):\n",
    "        \"\"\"\"\"\"\n",
    "        file_path = self.zip_file_name\n",
    "        try:\n",
    "            assert self.zip_file_name != \"\"\n",
    "        except AssertionError as e:\n",
    "            raise AssertionError(\n",
    "                f\"Please download the file or set the zip_file_name variable\"\n",
    "            )\n",
    "        import zipfile\n",
    "\n",
    "        export_to_path = (\n",
    "            Path(\"../data/\") / f\"class_{self.class_or_grade}_{self.subject}\"\n",
    "        )  # export to class_9_History and so on in the data folder\n",
    "        export_to_path.mkdir(exist_ok=True, parents=True)\n",
    "        with zipfile.ZipFile(file_path, \"r\") as zip_ref:\n",
    "            zip_ref.extractall(export_to_path)"
   ]
  },
  {
   "cell_type": "markdown",
   "metadata": {},
   "source": [
    "### Get List of Books and Download Links"
   ]
  },
  {
   "cell_type": "code",
   "execution_count": 30,
   "metadata": {},
   "outputs": [],
   "source": [
    "# collapse-hide\n",
    "sheet_name = \"History\"\n",
    "books_list = (\n",
    "    f\"https://api.steinhq.com/v1/storages/5fd49704f62b6004b3eb63a3/{sheet_name}\"\n",
    ")\n",
    "r = requests.get(books_list)"
   ]
  },
  {
   "cell_type": "code",
   "execution_count": 31,
   "metadata": {},
   "outputs": [],
   "source": [
    "# collapse-hide\n",
    "ncert_history_books = [Book(**x) for x in json.loads(r.text)]"
   ]
  },
  {
   "cell_type": "markdown",
   "metadata": {},
   "source": [
    "## Download and Extract all Books"
   ]
  },
  {
   "cell_type": "code",
   "execution_count": 32,
   "metadata": {},
   "outputs": [
    {
     "data": {
      "application/vnd.jupyter.widget-view+json": {
       "model_id": "fb5fa4e72a2b45d19ff0224929d9a736",
       "version_major": 2,
       "version_minor": 0
      },
      "text/plain": [
       "HBox(children=(HTML(value=''), FloatProgress(value=0.0, max=12.0), HTML(value='')))"
      ]
     },
     "metadata": {},
     "output_type": "display_data"
    },
    {
     "name": "stdout",
     "output_type": "stream",
     "text": [
      "\n"
     ]
    }
   ],
   "source": [
    "# collapse-show\n",
    "for book in tqdm(ncert_history_books):\n",
    "    book.download()\n",
    "    book.unzip()"
   ]
  },
  {
   "cell_type": "code",
   "execution_count": null,
   "metadata": {},
   "outputs": [],
   "source": [
    "# ncert_history_books[1].download()\n",
    "# ncert_history_books[1].unzip()"
   ]
  }
 ],
 "metadata": {
  "kernelspec": {
   "display_name": "Python 3",
   "language": "python",
   "name": "python3"
  },
  "language_info": {
   "codemirror_mode": {
    "name": "ipython",
    "version": 3
   },
   "file_extension": ".py",
   "mimetype": "text/x-python",
   "name": "python",
   "nbconvert_exporter": "python",
   "pygments_lexer": "ipython3",
   "version": "3.7.9"
  }
 },
 "nbformat": 4,
 "nbformat_minor": 4
}
