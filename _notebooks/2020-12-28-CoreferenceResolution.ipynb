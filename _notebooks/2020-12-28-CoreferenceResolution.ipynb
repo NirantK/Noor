{
 "cells": [
  {
   "cell_type": "markdown",
   "metadata": {},
   "source": [
    "# Coreference Resolution for Textbook Contents\n",
    "> A notebook for getting data from official sources and unzipping them to machine readable formats\n",
    "\n",
    "- toc: true \n",
    "- badges: false\n",
    "- comments: true\n",
    "- categories: [jupyter]\n",
    "- author: Nirant Kasliwal and Meghana Bhange\n",
    "<!-- - image: images/chart-preview.png -->"
   ]
  },
  {
   "cell_type": "code",
   "execution_count": null,
   "metadata": {},
   "outputs": [],
   "source": [
    "# hide\n",
    "# !pip install requests\n",
    "# !pip install pydantic\n",
    "# !pip install tqdm\n",
    "# !pip install pdfminer.six"
   ]
  },
  {
   "cell_type": "code",
   "execution_count": null,
   "metadata": {},
   "outputs": [],
   "source": [
    "%load_ext autoreload\n",
    "%autoreload 2"
   ]
  },
  {
   "cell_type": "code",
   "execution_count": null,
   "metadata": {},
   "outputs": [],
   "source": [
    "# hide_input\n",
    "import json\n",
    "from pathlib import Path\n",
    "from typing import List, Union\n",
    "\n",
    "import requests\n",
    "from pydantic import BaseModel\n",
    "from tqdm.notebook import tqdm\n",
    "\n",
    "import neuralcoref\n",
    "import spacy\n",
    "from textbook import Book, Chapter\n",
    "from textbookutils import pdf_to_text"
   ]
  },
  {
   "cell_type": "code",
   "execution_count": null,
   "metadata": {},
   "outputs": [],
   "source": [
    "Path.pdfls = lambda x: [x for x in list(x.iterdir()) if x.suffix == \".pdf\"]\n",
    "Path.ls = lambda x: list(x.iterdir())"
   ]
  },
  {
   "cell_type": "markdown",
   "metadata": {},
   "source": [
    "### Get List of Books and Download Links"
   ]
  },
  {
   "cell_type": "code",
   "execution_count": null,
   "metadata": {},
   "outputs": [],
   "source": [
    "# collapse-hide\n",
    "sheet_name = \"History\"\n",
    "books_list = (\n",
    "    f\"https://api.steinhq.com/v1/storages/5fd49704f62b6004b3eb63a3/{sheet_name}\"\n",
    ")\n",
    "r = requests.get(books_list)"
   ]
  },
  {
   "cell_type": "code",
   "execution_count": null,
   "metadata": {},
   "outputs": [],
   "source": [
    "# collapse-hide\n",
    "ncert_history_books = [Book(**x) for x in json.loads(r.text)]"
   ]
  },
  {
   "cell_type": "markdown",
   "metadata": {},
   "source": [
    "## Download and Extract all Books"
   ]
  },
  {
   "cell_type": "code",
   "execution_count": null,
   "metadata": {},
   "outputs": [],
   "source": [
    "# collapse-show\n",
    "for book in tqdm(ncert_history_books):\n",
    "    book.download(\"../data/raw\")\n",
    "    book.unzip(\"../data/extract\")"
   ]
  },
  {
   "cell_type": "code",
   "execution_count": null,
   "metadata": {},
   "outputs": [],
   "source": [
    "single_book = ncert_history_books[0]"
   ]
  },
  {
   "cell_type": "code",
   "execution_count": null,
   "metadata": {},
   "outputs": [],
   "source": [
    "pdf_files = []\n",
    "for folder in single_book.extract_to_path.ls():\n",
    "    pdf_files.extend(folder.pdfls())\n",
    "pdf_files.sort()\n",
    "pdf_files = [\n",
    "    file for file in pdf_files if file.stem[-2:].isdigit()\n",
    "]  # keep the chapter files, nothing else\n",
    "pdf_files"
   ]
  },
  {
   "cell_type": "markdown",
   "metadata": {},
   "source": [
    "# Using NeuralCorefernce By Huggingface and Spacy"
   ]
  },
  {
   "cell_type": "code",
   "execution_count": null,
   "metadata": {},
   "outputs": [],
   "source": [
    "nlp = spacy.load('en')\n",
    "neuralcoref.add_to_pipe(nlp)"
   ]
  },
  {
   "cell_type": "markdown",
   "metadata": {},
   "source": [
    "# Get the coreferece for each pdf file"
   ]
  },
  {
   "cell_type": "code",
   "execution_count": null,
   "metadata": {},
   "outputs": [],
   "source": [
    "coreferce_mapping_for_each_pdf = {}\n",
    "for file in pdf_files:\n",
    "    output_io_wrapper = StringIO()\n",
    "    plain_text = pdf_to_text(file, output_io_wrapper)\n",
    "    doc = nlp(plain_text)\n",
    "    coreferce_mapping_for_each_pdf[file] = {\n",
    "        \"coref_clusters\" : doc._.coref_clusters,\n",
    "        \"is_coref\" : doc._.is_coref,\n",
    "        \"doc\" : doc\n",
    "    }"
   ]
  },
  {
   "cell_type": "code",
   "execution_count": null,
   "metadata": {},
   "outputs": [],
   "source": [
    "# ncert_history_books[1].download()\n",
    "# ncert_history_books[1].unzip()"
   ]
  }
 ],
 "metadata": {
  "kernelspec": {
   "display_name": "Python 3",
   "language": "python",
   "name": "python3"
  }
 },
 "nbformat": 4,
 "nbformat_minor": 4
}
